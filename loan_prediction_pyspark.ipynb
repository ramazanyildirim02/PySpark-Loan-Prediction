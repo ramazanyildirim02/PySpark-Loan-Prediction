{
 "cells": [
  {
   "cell_type": "code",
   "execution_count": 1,
   "id": "e0e27514-e149-44ea-bdf6-ca2fbfb5adc6",
   "metadata": {},
   "outputs": [],
   "source": [
    "import pyspark\n",
    "from pyspark.sql import SparkSession\n",
    "import pyspark.sql.functions as F\n",
    "\n",
    "import pandas as pd\n",
    "import warnings\n",
    "warnings.filterwarnings('ignore')"
   ]
  },
  {
   "cell_type": "code",
   "execution_count": 2,
   "id": "93f9f666-a094-4160-8f95-8c8d5a54e54d",
   "metadata": {},
   "outputs": [
    {
     "name": "stderr",
     "output_type": "stream",
     "text": [
      "25/04/28 15:03:32 WARN NativeCodeLoader: Unable to load native-hadoop library for your platform... using builtin-java classes where applicable\n",
      "Setting default log level to \"WARN\".\n",
      "To adjust logging level use sc.setLogLevel(newLevel). For SparkR, use setLogLevel(newLevel).\n"
     ]
    }
   ],
   "source": [
    "spark = SparkSession.builder \\\n",
    "    .appName(\"loan_prediction\") \\\n",
    "    .config(\"spark.jars\", \"/Users/ramazanyildirim/.vscode/extensions/oracle.sql-developer-25.1.0-darwin-x64/dbtools/sqlcl/lib/modules/ojdbc11-23.7.0.25.01.jar\") \\\n",
    "    .getOrCreate()"
   ]
  },
  {
   "cell_type": "code",
   "execution_count": 3,
   "id": "dc68af58-1b7d-48d7-b184-03c329333ff6",
   "metadata": {},
   "outputs": [
    {
     "data": {
      "text/html": [
       "\n",
       "            <div>\n",
       "                <p><b>SparkSession - in-memory</b></p>\n",
       "                \n",
       "        <div>\n",
       "            <p><b>SparkContext</b></p>\n",
       "\n",
       "            <p><a href=\"http://192.168.20.137:4040\">Spark UI</a></p>\n",
       "\n",
       "            <dl>\n",
       "              <dt>Version</dt>\n",
       "                <dd><code>v3.5.5</code></dd>\n",
       "              <dt>Master</dt>\n",
       "                <dd><code>local[*]</code></dd>\n",
       "              <dt>AppName</dt>\n",
       "                <dd><code>loan_prediction</code></dd>\n",
       "            </dl>\n",
       "        </div>\n",
       "        \n",
       "            </div>\n",
       "        "
      ],
      "text/plain": [
       "<pyspark.sql.session.SparkSession at 0x10c3faed0>"
      ]
     },
     "execution_count": 3,
     "metadata": {},
     "output_type": "execute_result"
    }
   ],
   "source": [
    "spark"
   ]
  },
  {
   "cell_type": "code",
   "execution_count": 4,
   "id": "e16445c4-e841-42be-b752-e74a1cb7ec64",
   "metadata": {},
   "outputs": [],
   "source": [
    "df = spark.read.format(\"jdbc\") \\\n",
    "    .option(\"url\", \"jdbc:oracle:thin:@localhost:1521/xe\") \\\n",
    "    .option(\"user\", \"system\") \\\n",
    "    .option(\"password\", \"Oracle123\") \\\n",
    "    .option(\"dbtable\", \"loanprediction\") \\\n",
    "    .option(\"driver\", \"oracle.jdbc.OracleDriver\") \\\n",
    "    .load()\n"
   ]
  },
  {
   "cell_type": "code",
   "execution_count": 5,
   "id": "97eee1ac-5f6d-4d13-be88-cff104b0bb30",
   "metadata": {},
   "outputs": [
    {
     "name": "stderr",
     "output_type": "stream",
     "text": [
      "25/04/28 15:03:47 WARN GarbageCollectionMetrics: To enable non-built-in garbage collector(s) List(G1 Concurrent GC), users should configure it(them) to spark.eventLog.gcMetrics.youngGenerationGarbageCollectors or spark.eventLog.gcMetrics.oldGenerationGarbageCollectors\n"
     ]
    },
    {
     "name": "stdout",
     "output_type": "stream",
     "text": [
      "+--------+------+-------+----------+------------+-------------+---------------+-----------------+--------------+----------------+--------------+-------------+-----------+\n",
      "| Loan_ID|Gender|Married|Dependents|   Education|Self_Employed|ApplicantIncome|CoapplicantIncome|    LoanAmount|Loan_Amount_Term|Credit_History|Property_Area|Loan_Status|\n",
      "+--------+------+-------+----------+------------+-------------+---------------+-----------------+--------------+----------------+--------------+-------------+-----------+\n",
      "|LP001002|  Male|     No|         0|    Graduate|           No|           5849|     0.0000000000|          NULL|  360.0000000000|  1.0000000000|        Urban|          Y|\n",
      "|LP001003|  Male|    Yes|         1|    Graduate|           No|           4583|  1508.0000000000|128.0000000000|  360.0000000000|  1.0000000000|        Rural|          N|\n",
      "|LP001005|  Male|    Yes|         0|    Graduate|          Yes|           3000|     0.0000000000| 66.0000000000|  360.0000000000|  1.0000000000|        Urban|          Y|\n",
      "|LP001006|  Male|    Yes|         0|Not Graduate|           No|           2583|  2358.0000000000|120.0000000000|  360.0000000000|  1.0000000000|        Urban|          Y|\n",
      "|LP001008|  Male|     No|         0|    Graduate|           No|           6000|     0.0000000000|141.0000000000|  360.0000000000|  1.0000000000|        Urban|          Y|\n",
      "|LP001011|  Male|    Yes|         2|    Graduate|          Yes|           5417|  4196.0000000000|267.0000000000|  360.0000000000|  1.0000000000|        Urban|          Y|\n",
      "|LP001013|  Male|    Yes|         0|Not Graduate|           No|           2333|  1516.0000000000| 95.0000000000|  360.0000000000|  1.0000000000|        Urban|          Y|\n",
      "|LP001014|  Male|    Yes|        3+|    Graduate|           No|           3036|  2504.0000000000|158.0000000000|  360.0000000000|  0.0000000000|    Semiurban|          N|\n",
      "|LP001018|  Male|    Yes|         2|    Graduate|           No|           4006|  1526.0000000000|168.0000000000|  360.0000000000|  1.0000000000|        Urban|          Y|\n",
      "|LP001020|  Male|    Yes|         1|    Graduate|           No|          12841| 10968.0000000000|349.0000000000|  360.0000000000|  1.0000000000|    Semiurban|          N|\n",
      "|LP001024|  Male|    Yes|         2|    Graduate|           No|           3200|   700.0000000000| 70.0000000000|  360.0000000000|  1.0000000000|        Urban|          Y|\n",
      "|LP001027|  Male|    Yes|         2|    Graduate|         NULL|           2500|  1840.0000000000|109.0000000000|  360.0000000000|  1.0000000000|        Urban|          Y|\n",
      "|LP001028|  Male|    Yes|         2|    Graduate|           No|           3073|  8106.0000000000|200.0000000000|  360.0000000000|  1.0000000000|        Urban|          Y|\n",
      "|LP001029|  Male|     No|         0|    Graduate|           No|           1853|  2840.0000000000|114.0000000000|  360.0000000000|  1.0000000000|        Rural|          N|\n",
      "|LP001030|  Male|    Yes|         2|    Graduate|           No|           1299|  1086.0000000000| 17.0000000000|  120.0000000000|  1.0000000000|        Urban|          Y|\n",
      "|LP001032|  Male|     No|         0|    Graduate|           No|           4950|     0.0000000000|125.0000000000|  360.0000000000|  1.0000000000|        Urban|          Y|\n",
      "|LP001034|  Male|     No|         1|Not Graduate|           No|           3596|     0.0000000000|100.0000000000|  240.0000000000|          NULL|        Urban|          Y|\n",
      "|LP001036|Female|     No|         0|    Graduate|           No|           3510|     0.0000000000| 76.0000000000|  360.0000000000|  0.0000000000|        Urban|          N|\n",
      "|LP001038|  Male|    Yes|         0|Not Graduate|           No|           4887|     0.0000000000|133.0000000000|  360.0000000000|  1.0000000000|        Rural|          N|\n",
      "|LP001041|  Male|    Yes|         0|    Graduate|         NULL|           2600|  3500.0000000000|115.0000000000|            NULL|  1.0000000000|        Urban|          Y|\n",
      "+--------+------+-------+----------+------------+-------------+---------------+-----------------+--------------+----------------+--------------+-------------+-----------+\n",
      "only showing top 20 rows\n",
      "\n"
     ]
    }
   ],
   "source": [
    "df.show()"
   ]
  },
  {
   "cell_type": "code",
   "execution_count": 6,
   "id": "fad501e4-f9af-4b4b-b9b3-ce1928f5cb1e",
   "metadata": {},
   "outputs": [
    {
     "data": {
      "text/html": [
       "<div>\n",
       "<style scoped>\n",
       "    .dataframe tbody tr th:only-of-type {\n",
       "        vertical-align: middle;\n",
       "    }\n",
       "\n",
       "    .dataframe tbody tr th {\n",
       "        vertical-align: top;\n",
       "    }\n",
       "\n",
       "    .dataframe thead th {\n",
       "        text-align: right;\n",
       "    }\n",
       "</style>\n",
       "<table border=\"1\" class=\"dataframe\">\n",
       "  <thead>\n",
       "    <tr style=\"text-align: right;\">\n",
       "      <th></th>\n",
       "      <th>Loan_ID</th>\n",
       "      <th>Gender</th>\n",
       "      <th>Married</th>\n",
       "      <th>Dependents</th>\n",
       "      <th>Education</th>\n",
       "      <th>Self_Employed</th>\n",
       "      <th>ApplicantIncome</th>\n",
       "      <th>CoapplicantIncome</th>\n",
       "      <th>LoanAmount</th>\n",
       "      <th>Loan_Amount_Term</th>\n",
       "      <th>Credit_History</th>\n",
       "      <th>Property_Area</th>\n",
       "      <th>Loan_Status</th>\n",
       "    </tr>\n",
       "  </thead>\n",
       "  <tbody>\n",
       "    <tr>\n",
       "      <th>0</th>\n",
       "      <td>LP001002</td>\n",
       "      <td>Male</td>\n",
       "      <td>No</td>\n",
       "      <td>0</td>\n",
       "      <td>Graduate</td>\n",
       "      <td>No</td>\n",
       "      <td>5849</td>\n",
       "      <td>0.0</td>\n",
       "      <td>NaN</td>\n",
       "      <td>360.0</td>\n",
       "      <td>1.0</td>\n",
       "      <td>Urban</td>\n",
       "      <td>Y</td>\n",
       "    </tr>\n",
       "    <tr>\n",
       "      <th>1</th>\n",
       "      <td>LP001003</td>\n",
       "      <td>Male</td>\n",
       "      <td>Yes</td>\n",
       "      <td>1</td>\n",
       "      <td>Graduate</td>\n",
       "      <td>No</td>\n",
       "      <td>4583</td>\n",
       "      <td>1508.0</td>\n",
       "      <td>128.0</td>\n",
       "      <td>360.0</td>\n",
       "      <td>1.0</td>\n",
       "      <td>Rural</td>\n",
       "      <td>N</td>\n",
       "    </tr>\n",
       "    <tr>\n",
       "      <th>2</th>\n",
       "      <td>LP001005</td>\n",
       "      <td>Male</td>\n",
       "      <td>Yes</td>\n",
       "      <td>0</td>\n",
       "      <td>Graduate</td>\n",
       "      <td>Yes</td>\n",
       "      <td>3000</td>\n",
       "      <td>0.0</td>\n",
       "      <td>66.0</td>\n",
       "      <td>360.0</td>\n",
       "      <td>1.0</td>\n",
       "      <td>Urban</td>\n",
       "      <td>Y</td>\n",
       "    </tr>\n",
       "    <tr>\n",
       "      <th>3</th>\n",
       "      <td>LP001006</td>\n",
       "      <td>Male</td>\n",
       "      <td>Yes</td>\n",
       "      <td>0</td>\n",
       "      <td>Not Graduate</td>\n",
       "      <td>No</td>\n",
       "      <td>2583</td>\n",
       "      <td>2358.0</td>\n",
       "      <td>120.0</td>\n",
       "      <td>360.0</td>\n",
       "      <td>1.0</td>\n",
       "      <td>Urban</td>\n",
       "      <td>Y</td>\n",
       "    </tr>\n",
       "    <tr>\n",
       "      <th>4</th>\n",
       "      <td>LP001008</td>\n",
       "      <td>Male</td>\n",
       "      <td>No</td>\n",
       "      <td>0</td>\n",
       "      <td>Graduate</td>\n",
       "      <td>No</td>\n",
       "      <td>6000</td>\n",
       "      <td>0.0</td>\n",
       "      <td>141.0</td>\n",
       "      <td>360.0</td>\n",
       "      <td>1.0</td>\n",
       "      <td>Urban</td>\n",
       "      <td>Y</td>\n",
       "    </tr>\n",
       "    <tr>\n",
       "      <th>...</th>\n",
       "      <td>...</td>\n",
       "      <td>...</td>\n",
       "      <td>...</td>\n",
       "      <td>...</td>\n",
       "      <td>...</td>\n",
       "      <td>...</td>\n",
       "      <td>...</td>\n",
       "      <td>...</td>\n",
       "      <td>...</td>\n",
       "      <td>...</td>\n",
       "      <td>...</td>\n",
       "      <td>...</td>\n",
       "      <td>...</td>\n",
       "    </tr>\n",
       "    <tr>\n",
       "      <th>609</th>\n",
       "      <td>LP002978</td>\n",
       "      <td>Female</td>\n",
       "      <td>No</td>\n",
       "      <td>0</td>\n",
       "      <td>Graduate</td>\n",
       "      <td>No</td>\n",
       "      <td>2900</td>\n",
       "      <td>0.0</td>\n",
       "      <td>71.0</td>\n",
       "      <td>360.0</td>\n",
       "      <td>1.0</td>\n",
       "      <td>Rural</td>\n",
       "      <td>Y</td>\n",
       "    </tr>\n",
       "    <tr>\n",
       "      <th>610</th>\n",
       "      <td>LP002979</td>\n",
       "      <td>Male</td>\n",
       "      <td>Yes</td>\n",
       "      <td>3+</td>\n",
       "      <td>Graduate</td>\n",
       "      <td>No</td>\n",
       "      <td>4106</td>\n",
       "      <td>0.0</td>\n",
       "      <td>40.0</td>\n",
       "      <td>180.0</td>\n",
       "      <td>1.0</td>\n",
       "      <td>Rural</td>\n",
       "      <td>Y</td>\n",
       "    </tr>\n",
       "    <tr>\n",
       "      <th>611</th>\n",
       "      <td>LP002983</td>\n",
       "      <td>Male</td>\n",
       "      <td>Yes</td>\n",
       "      <td>1</td>\n",
       "      <td>Graduate</td>\n",
       "      <td>No</td>\n",
       "      <td>8072</td>\n",
       "      <td>240.0</td>\n",
       "      <td>253.0</td>\n",
       "      <td>360.0</td>\n",
       "      <td>1.0</td>\n",
       "      <td>Urban</td>\n",
       "      <td>Y</td>\n",
       "    </tr>\n",
       "    <tr>\n",
       "      <th>612</th>\n",
       "      <td>LP002984</td>\n",
       "      <td>Male</td>\n",
       "      <td>Yes</td>\n",
       "      <td>2</td>\n",
       "      <td>Graduate</td>\n",
       "      <td>No</td>\n",
       "      <td>7583</td>\n",
       "      <td>0.0</td>\n",
       "      <td>187.0</td>\n",
       "      <td>360.0</td>\n",
       "      <td>1.0</td>\n",
       "      <td>Urban</td>\n",
       "      <td>Y</td>\n",
       "    </tr>\n",
       "    <tr>\n",
       "      <th>613</th>\n",
       "      <td>LP002990</td>\n",
       "      <td>Female</td>\n",
       "      <td>No</td>\n",
       "      <td>0</td>\n",
       "      <td>Graduate</td>\n",
       "      <td>Yes</td>\n",
       "      <td>4583</td>\n",
       "      <td>0.0</td>\n",
       "      <td>133.0</td>\n",
       "      <td>360.0</td>\n",
       "      <td>0.0</td>\n",
       "      <td>Semiurban</td>\n",
       "      <td>N</td>\n",
       "    </tr>\n",
       "  </tbody>\n",
       "</table>\n",
       "<p>614 rows × 13 columns</p>\n",
       "</div>"
      ],
      "text/plain": [
       "      Loan_ID  Gender Married Dependents     Education Self_Employed  \\\n",
       "0    LP001002    Male      No          0      Graduate            No   \n",
       "1    LP001003    Male     Yes          1      Graduate            No   \n",
       "2    LP001005    Male     Yes          0      Graduate           Yes   \n",
       "3    LP001006    Male     Yes          0  Not Graduate            No   \n",
       "4    LP001008    Male      No          0      Graduate            No   \n",
       "..        ...     ...     ...        ...           ...           ...   \n",
       "609  LP002978  Female      No          0      Graduate            No   \n",
       "610  LP002979    Male     Yes         3+      Graduate            No   \n",
       "611  LP002983    Male     Yes          1      Graduate            No   \n",
       "612  LP002984    Male     Yes          2      Graduate            No   \n",
       "613  LP002990  Female      No          0      Graduate           Yes   \n",
       "\n",
       "     ApplicantIncome  CoapplicantIncome  LoanAmount  Loan_Amount_Term  \\\n",
       "0               5849                0.0         NaN             360.0   \n",
       "1               4583             1508.0       128.0             360.0   \n",
       "2               3000                0.0        66.0             360.0   \n",
       "3               2583             2358.0       120.0             360.0   \n",
       "4               6000                0.0       141.0             360.0   \n",
       "..               ...                ...         ...               ...   \n",
       "609             2900                0.0        71.0             360.0   \n",
       "610             4106                0.0        40.0             180.0   \n",
       "611             8072              240.0       253.0             360.0   \n",
       "612             7583                0.0       187.0             360.0   \n",
       "613             4583                0.0       133.0             360.0   \n",
       "\n",
       "     Credit_History Property_Area Loan_Status  \n",
       "0               1.0         Urban           Y  \n",
       "1               1.0         Rural           N  \n",
       "2               1.0         Urban           Y  \n",
       "3               1.0         Urban           Y  \n",
       "4               1.0         Urban           Y  \n",
       "..              ...           ...         ...  \n",
       "609             1.0         Rural           Y  \n",
       "610             1.0         Rural           Y  \n",
       "611             1.0         Urban           Y  \n",
       "612             1.0         Urban           Y  \n",
       "613             0.0     Semiurban           N  \n",
       "\n",
       "[614 rows x 13 columns]"
      ]
     },
     "execution_count": 6,
     "metadata": {},
     "output_type": "execute_result"
    }
   ],
   "source": [
    "import pandas as pd\n",
    "b = pd.read_csv(\"Loan Prediction Dataset.csv\")\n",
    "b"
   ]
  },
  {
   "cell_type": "code",
   "execution_count": 7,
   "id": "01fbd623-6397-40be-9cf7-846364a65576",
   "metadata": {
    "scrolled": true
   },
   "outputs": [
    {
     "name": "stdout",
     "output_type": "stream",
     "text": [
      "root\n",
      " |-- Loan_ID: string (nullable = true)\n",
      " |-- Gender: string (nullable = true)\n",
      " |-- Married: string (nullable = true)\n",
      " |-- Dependents: string (nullable = true)\n",
      " |-- Education: string (nullable = true)\n",
      " |-- Self_Employed: string (nullable = true)\n",
      " |-- ApplicantIncome: decimal(38,0) (nullable = true)\n",
      " |-- CoapplicantIncome: decimal(38,10) (nullable = true)\n",
      " |-- LoanAmount: decimal(38,10) (nullable = true)\n",
      " |-- Loan_Amount_Term: decimal(38,10) (nullable = true)\n",
      " |-- Credit_History: decimal(38,10) (nullable = true)\n",
      " |-- Property_Area: string (nullable = true)\n",
      " |-- Loan_Status: string (nullable = true)\n",
      "\n"
     ]
    }
   ],
   "source": [
    "df.printSchema()"
   ]
  },
  {
   "cell_type": "code",
   "execution_count": 8,
   "id": "adb426c5-361e-492e-b574-02b59f16a31c",
   "metadata": {},
   "outputs": [
    {
     "data": {
      "text/plain": [
       "[('Loan_ID', 'string'),\n",
       " ('Gender', 'string'),\n",
       " ('Married', 'string'),\n",
       " ('Dependents', 'string'),\n",
       " ('Education', 'string'),\n",
       " ('Self_Employed', 'string'),\n",
       " ('ApplicantIncome', 'decimal(38,0)'),\n",
       " ('CoapplicantIncome', 'decimal(38,10)'),\n",
       " ('LoanAmount', 'decimal(38,10)'),\n",
       " ('Loan_Amount_Term', 'decimal(38,10)'),\n",
       " ('Credit_History', 'decimal(38,10)'),\n",
       " ('Property_Area', 'string'),\n",
       " ('Loan_Status', 'string')]"
      ]
     },
     "execution_count": 8,
     "metadata": {},
     "output_type": "execute_result"
    }
   ],
   "source": [
    "df.dtypes"
   ]
  },
  {
   "cell_type": "code",
   "execution_count": 9,
   "id": "829734e4-997a-45c3-a99e-83c9aa99ef72",
   "metadata": {},
   "outputs": [
    {
     "name": "stderr",
     "output_type": "stream",
     "text": [
      "[Stage 1:>                                                          (0 + 1) / 1]\r"
     ]
    },
    {
     "name": "stdout",
     "output_type": "stream",
     "text": [
      "+--------+------+-------+----------+------------+-------------+---------------+-----------------+--------------+----------------+--------------+-------------+-----------+\n",
      "| Loan_ID|Gender|Married|Dependents|   Education|Self_Employed|ApplicantIncome|CoapplicantIncome|    LoanAmount|Loan_Amount_Term|Credit_History|Property_Area|Loan_Status|\n",
      "+--------+------+-------+----------+------------+-------------+---------------+-----------------+--------------+----------------+--------------+-------------+-----------+\n",
      "|LP001002|  Male|     No|         0|    Graduate|           No|           5849|     0.0000000000|          NULL|  360.0000000000|  1.0000000000|        Urban|          Y|\n",
      "|LP001003|  Male|    Yes|         1|    Graduate|           No|           4583|  1508.0000000000|128.0000000000|  360.0000000000|  1.0000000000|        Rural|          N|\n",
      "|LP001005|  Male|    Yes|         0|    Graduate|          Yes|           3000|     0.0000000000| 66.0000000000|  360.0000000000|  1.0000000000|        Urban|          Y|\n",
      "|LP001006|  Male|    Yes|         0|Not Graduate|           No|           2583|  2358.0000000000|120.0000000000|  360.0000000000|  1.0000000000|        Urban|          Y|\n",
      "|LP001008|  Male|     No|         0|    Graduate|           No|           6000|     0.0000000000|141.0000000000|  360.0000000000|  1.0000000000|        Urban|          Y|\n",
      "+--------+------+-------+----------+------------+-------------+---------------+-----------------+--------------+----------------+--------------+-------------+-----------+\n",
      "only showing top 5 rows\n",
      "\n"
     ]
    },
    {
     "name": "stderr",
     "output_type": "stream",
     "text": [
      "                                                                                \r"
     ]
    }
   ],
   "source": [
    "df.show(5)"
   ]
  },
  {
   "cell_type": "markdown",
   "id": "6444e2ac-60a8-440a-85f7-78d0ccd901e3",
   "metadata": {},
   "source": [
    "# Data Analysis"
   ]
  },
  {
   "cell_type": "code",
   "execution_count": 10,
   "id": "d7b93987-ff20-47d3-8b30-840a2ca3f6e9",
   "metadata": {},
   "outputs": [
    {
     "name": "stdout",
     "output_type": "stream",
     "text": [
      "+-----------+-----+\n",
      "|Loan_Status|count|\n",
      "+-----------+-----+\n",
      "|          Y|  422|\n",
      "|          N|  192|\n",
      "+-----------+-----+\n",
      "\n"
     ]
    }
   ],
   "source": [
    "# Loan_Status sütununu aggregate edelim\n",
    "df.groupBy(\"Loan_Status\").count().show()"
   ]
  },
  {
   "cell_type": "code",
   "execution_count": 11,
   "id": "fdfc2b05-0dc8-4623-9688-0dc80f50ff85",
   "metadata": {},
   "outputs": [
    {
     "name": "stdout",
     "output_type": "stream",
     "text": [
      "+-----------+-------------------+\n",
      "|Loan_Status|avg(Credit_History)|\n",
      "+-----------+-------------------+\n",
      "|          Y|   0.98181818181818|\n",
      "|          N|   0.54189944134078|\n",
      "+-----------+-------------------+\n",
      "\n"
     ]
    }
   ],
   "source": [
    "# DataFrame üzerinde gruplama ve toplama işlemini gerçekleştirelim\n",
    "df.select(\"Credit_History\", \"Loan_Status\").groupBy(\"Loan_Status\").agg(F.avg(\"Credit_History\")).show()\n",
    "\n",
    "#df.select( \"Loan_Status\",\"Credit_History\",).groupBy('Loan_Status').agg(F.avg('Credit_History')).show() --> Aynı şeyi verecek çıktı"
   ]
  },
  {
   "cell_type": "markdown",
   "id": "ffadc197-42f7-4232-9827-59254dcea7b5",
   "metadata": {},
   "source": [
    "Yukarıdaki kod parçacığı, DataFrame'den \"Credit_History\" ve \"Loan_Status\" sütunlarını seçer, verileri \"Loan_Status\" sütununa göre gruplandırır ve ardından her grup için \"Credit_History\" sütununun ortalamasını hesaplar"
   ]
  },
  {
   "cell_type": "code",
   "execution_count": 12,
   "id": "d099e870-e085-4755-9d5c-e4710472d795",
   "metadata": {},
   "outputs": [
    {
     "name": "stdout",
     "output_type": "stream",
     "text": [
      "+-----------+------+-----+\n",
      "|Loan_Status|Gender|count|\n",
      "+-----------+------+-----+\n",
      "|          N|Female|   37|\n",
      "|          Y|  NULL|    8|\n",
      "|          Y|Female|   75|\n",
      "|          N|  NULL|    5|\n",
      "|          Y|  Male|  339|\n",
      "|          N|  Male|  150|\n",
      "+-----------+------+-----+\n",
      "\n"
     ]
    }
   ],
   "source": [
    "# DataFrame üzerinde gruplama ve sayma işlemini gerçekleştirelim\n",
    "df.select(\"Gender\", \"Loan_Status\").groupBy(\"Loan_Status\", \"Gender\").count().show()"
   ]
  },
  {
   "cell_type": "markdown",
   "id": "74fdfa6c-d0c4-4f2e-b2af-3a0473e83c9b",
   "metadata": {},
   "source": [
    "Veri Çerçevesinden 'Cinsiyet' ve 'Kredi_Durumu' sütunlarını seçer, verileri hem 'Kredi_Durumu' hem de 'Cinsiyet'e göre gruplandırır ve ardından her kombinasyon için oluşum sayısını sayar"
   ]
  },
  {
   "cell_type": "markdown",
   "id": "1d37bfd2-c25d-4a3a-8a43-4aec487807cb",
   "metadata": {},
   "source": [
    "# Correlation Matrix"
   ]
  },
  {
   "cell_type": "code",
   "execution_count": 13,
   "id": "20b9d35a-d3ab-40e5-8da0-f370e211623d",
   "metadata": {},
   "outputs": [
    {
     "name": "stderr",
     "output_type": "stream",
     "text": [
      "                                                                                \r"
     ]
    },
    {
     "data": {
      "text/html": [
       "<div>\n",
       "<style scoped>\n",
       "    .dataframe tbody tr th:only-of-type {\n",
       "        vertical-align: middle;\n",
       "    }\n",
       "\n",
       "    .dataframe tbody tr th {\n",
       "        vertical-align: top;\n",
       "    }\n",
       "\n",
       "    .dataframe thead th {\n",
       "        text-align: right;\n",
       "    }\n",
       "</style>\n",
       "<table border=\"1\" class=\"dataframe\">\n",
       "  <thead>\n",
       "    <tr style=\"text-align: right;\">\n",
       "      <th></th>\n",
       "      <th>ApplicantIncome</th>\n",
       "      <th>CoapplicantIncome</th>\n",
       "      <th>LoanAmount</th>\n",
       "      <th>Loan_Amount_Term</th>\n",
       "      <th>Credit_History</th>\n",
       "    </tr>\n",
       "    <tr>\n",
       "      <th></th>\n",
       "      <th></th>\n",
       "      <th></th>\n",
       "      <th></th>\n",
       "      <th></th>\n",
       "      <th></th>\n",
       "    </tr>\n",
       "  </thead>\n",
       "  <tbody>\n",
       "    <tr>\n",
       "      <th>ApplicantIncome</th>\n",
       "      <td>1.00</td>\n",
       "      <td>-0.12</td>\n",
       "      <td>0.54</td>\n",
       "      <td>-0.02</td>\n",
       "      <td>0.01</td>\n",
       "    </tr>\n",
       "    <tr>\n",
       "      <th>CoapplicantIncome</th>\n",
       "      <td>-0.12</td>\n",
       "      <td>1.00</td>\n",
       "      <td>0.19</td>\n",
       "      <td>-0.05</td>\n",
       "      <td>-0.06</td>\n",
       "    </tr>\n",
       "    <tr>\n",
       "      <th>LoanAmount</th>\n",
       "      <td>0.54</td>\n",
       "      <td>0.19</td>\n",
       "      <td>1.00</td>\n",
       "      <td>0.06</td>\n",
       "      <td>-0.03</td>\n",
       "    </tr>\n",
       "    <tr>\n",
       "      <th>Loan_Amount_Term</th>\n",
       "      <td>-0.02</td>\n",
       "      <td>-0.05</td>\n",
       "      <td>0.06</td>\n",
       "      <td>1.00</td>\n",
       "      <td>0.05</td>\n",
       "    </tr>\n",
       "    <tr>\n",
       "      <th>Credit_History</th>\n",
       "      <td>0.01</td>\n",
       "      <td>-0.06</td>\n",
       "      <td>-0.03</td>\n",
       "      <td>0.05</td>\n",
       "      <td>1.00</td>\n",
       "    </tr>\n",
       "  </tbody>\n",
       "</table>\n",
       "</div>"
      ],
      "text/plain": [
       "                   ApplicantIncome  CoapplicantIncome  LoanAmount  \\\n",
       "                                                                    \n",
       "ApplicantIncome               1.00              -0.12        0.54   \n",
       "CoapplicantIncome            -0.12               1.00        0.19   \n",
       "LoanAmount                    0.54               0.19        1.00   \n",
       "Loan_Amount_Term             -0.02              -0.05        0.06   \n",
       "Credit_History                0.01              -0.06       -0.03   \n",
       "\n",
       "                   Loan_Amount_Term  Credit_History  \n",
       "                                                     \n",
       "ApplicantIncome               -0.02            0.01  \n",
       "CoapplicantIncome             -0.05           -0.06  \n",
       "LoanAmount                     0.06           -0.03  \n",
       "Loan_Amount_Term               1.00            0.05  \n",
       "Credit_History                 0.05            1.00  "
      ]
     },
     "execution_count": 13,
     "metadata": {},
     "output_type": "execute_result"
    }
   ],
   "source": [
    "columns = ['ApplicantIncome', 'CoapplicantIncome', 'LoanAmount', 'Loan_Amount_Term', 'Credit_History']\n",
    "corr_df = pd.DataFrame()\n",
    "for i in columns:\n",
    "    corr = []\n",
    "    for j in columns:\n",
    "        corr.append(round(df.stat.corr(i, j), 2))\n",
    "    corr_df = pd.concat([corr_df, pd.Series(corr)], axis=1)\n",
    "corr_df.columns = columns\n",
    "corr_df.insert(0, '', columns)\n",
    "corr_df.set_index('')"
   ]
  },
  {
   "cell_type": "markdown",
   "id": "bb84a1d4-adab-4cd1-ad9b-44c53ea6c9f3",
   "metadata": {},
   "source": [
    "# SQL İşlemleri"
   ]
  },
  {
   "cell_type": "code",
   "execution_count": 14,
   "id": "8ed1b28b-6ba8-437c-9930-a8060cae48b1",
   "metadata": {},
   "outputs": [],
   "source": [
    "import pyspark.sql as sparksql"
   ]
  },
  {
   "cell_type": "markdown",
   "id": "b71a6cac-475d-4264-b540-f736a50953d2",
   "metadata": {},
   "source": [
    "Apache Spark'taki DataFrame df'den \"table\" adlı geçici bir view oluşturacağız. Geçici bir view, SQL benzeri sözdizimini kullanarak DataFrame'i sorgulamanıza olanak tanır\n"
   ]
  },
  {
   "cell_type": "code",
   "execution_count": 15,
   "id": "e317910f-1341-4538-a401-171ec80b118a",
   "metadata": {},
   "outputs": [],
   "source": [
    "df.createOrReplaceTempView(\"table\")"
   ]
  },
  {
   "cell_type": "code",
   "execution_count": 16,
   "id": "1df452d9-2f83-416c-a252-0c7cb7f49778",
   "metadata": {},
   "outputs": [
    {
     "name": "stdout",
     "output_type": "stream",
     "text": [
      "+--------+------+-------+----------+------------+-------------+---------------+-----------------+--------------+----------------+--------------+-------------+-----------+\n",
      "| Loan_ID|Gender|Married|Dependents|   Education|Self_Employed|ApplicantIncome|CoapplicantIncome|    LoanAmount|Loan_Amount_Term|Credit_History|Property_Area|Loan_Status|\n",
      "+--------+------+-------+----------+------------+-------------+---------------+-----------------+--------------+----------------+--------------+-------------+-----------+\n",
      "|LP001002|  Male|     No|         0|    Graduate|           No|           5849|     0.0000000000|          NULL|  360.0000000000|  1.0000000000|        Urban|          Y|\n",
      "|LP001003|  Male|    Yes|         1|    Graduate|           No|           4583|  1508.0000000000|128.0000000000|  360.0000000000|  1.0000000000|        Rural|          N|\n",
      "|LP001005|  Male|    Yes|         0|    Graduate|          Yes|           3000|     0.0000000000| 66.0000000000|  360.0000000000|  1.0000000000|        Urban|          Y|\n",
      "|LP001006|  Male|    Yes|         0|Not Graduate|           No|           2583|  2358.0000000000|120.0000000000|  360.0000000000|  1.0000000000|        Urban|          Y|\n",
      "|LP001008|  Male|     No|         0|    Graduate|           No|           6000|     0.0000000000|141.0000000000|  360.0000000000|  1.0000000000|        Urban|          Y|\n",
      "+--------+------+-------+----------+------------+-------------+---------------+-----------------+--------------+----------------+--------------+-------------+-----------+\n",
      "\n"
     ]
    }
   ],
   "source": [
    "# Tablodaki ilk 5 satırı getirelim\n",
    "spark.sql(\"select * from table limit 5\").show()"
   ]
  },
  {
   "cell_type": "code",
   "execution_count": 17,
   "id": "453c4fb4-24de-4454-9e21-8a0e4a25dd78",
   "metadata": {},
   "outputs": [
    {
     "name": "stdout",
     "output_type": "stream",
     "text": [
      "+--------+\n",
      "| Loan_ID|\n",
      "+--------+\n",
      "|LP001002|\n",
      "|LP001003|\n",
      "|LP001005|\n",
      "|LP001006|\n",
      "|LP001008|\n",
      "|LP001011|\n",
      "|LP001013|\n",
      "|LP001018|\n",
      "|LP001020|\n",
      "|LP001024|\n",
      "|LP001027|\n",
      "|LP001028|\n",
      "|LP001029|\n",
      "|LP001030|\n",
      "|LP001032|\n",
      "|LP001038|\n",
      "|LP001041|\n",
      "|LP001046|\n",
      "|LP001066|\n",
      "|LP001068|\n",
      "+--------+\n",
      "only showing top 20 rows\n",
      "\n"
     ]
    }
   ],
   "source": [
    "spark.sql(\"select Loan_ID from table where Credit_History = 1\").show()"
   ]
  },
  {
   "cell_type": "markdown",
   "id": "4059d0a2-adb6-4773-82ab-88310781cc68",
   "metadata": {},
   "source": [
    "# Data Preprocessing"
   ]
  },
  {
   "cell_type": "code",
   "execution_count": 18,
   "id": "5c59ae7b-eccb-4adb-924b-512a8a5ce013",
   "metadata": {},
   "outputs": [
    {
     "name": "stderr",
     "output_type": "stream",
     "text": [
      "[Stage 88:>                                                         (0 + 1) / 1]\r"
     ]
    },
    {
     "name": "stdout",
     "output_type": "stream",
     "text": [
      "+-------+------+-------+----------+---------+-------------+---------------+-----------------+----------+----------------+--------------+-------------+-----------+\n",
      "|Loan_ID|Gender|Married|Dependents|Education|Self_Employed|ApplicantIncome|CoapplicantIncome|LoanAmount|Loan_Amount_Term|Credit_History|Property_Area|Loan_Status|\n",
      "+-------+------+-------+----------+---------+-------------+---------------+-----------------+----------+----------------+--------------+-------------+-----------+\n",
      "|      0|    13|      3|        15|        0|           32|              0|                0|        22|              14|            50|            0|          0|\n",
      "+-------+------+-------+----------+---------+-------------+---------------+-----------------+----------+----------------+--------------+-------------+-----------+\n",
      "\n"
     ]
    },
    {
     "name": "stderr",
     "output_type": "stream",
     "text": [
      "                                                                                \r"
     ]
    }
   ],
   "source": [
    "#İlk olarak sütunlardaki boş değerleri görelim\n",
    "df.select([F.count(F.when(F.col(c).isNull(), c)).alias(c) for c in df.columns]).show()"
   ]
  },
  {
   "cell_type": "markdown",
   "id": "dc79b425-ffd3-4555-81f1-815eea68dc34",
   "metadata": {},
   "source": [
    "Bu, DataFrame df'deki her sütun için boş değerlerin sayısını saymak ve sonucu görüntülemek için Apache Spark'taki select işlevini kullanır\n"
   ]
  },
  {
   "cell_type": "code",
   "execution_count": 19,
   "id": "7f90749a-6f43-4b65-85ef-7adb4902cfe5",
   "metadata": {},
   "outputs": [
    {
     "data": {
      "text/plain": [
       "146.41216216216216"
      ]
     },
     "execution_count": 19,
     "metadata": {},
     "output_type": "execute_result"
    }
   ],
   "source": [
    "#sütunun ortalama değerini hesaplayacağız\n",
    "mean = df.select(F.mean(df['LoanAmount'])).collect()[0][0]\n",
    "mean = float(mean)\n",
    "mean"
   ]
  },
  {
   "cell_type": "markdown",
   "id": "37dff77a-2d32-4303-a9c7-3952df6f4fbe",
   "metadata": {},
   "source": [
    "pyspark.sql.functions modülündeki mean() fonksiyonunu kullanarak DataFrame df'deki 'LoanAmount' sütununun ortalama değerini hesaplar 146.41216216216216 Bu, 'LoanAmount' sütununun ortalama değeridir\n"
   ]
  },
  {
   "cell_type": "code",
   "execution_count": 20,
   "id": "37206e08-08ec-4ea2-8938-83b4e3039619",
   "metadata": {},
   "outputs": [],
   "source": [
    "# boş değerleri dolduracağız\n",
    "df = df.na.fill(mean, ['LoanAmount'])"
   ]
  },
  {
   "cell_type": "code",
   "execution_count": 21,
   "id": "1cef4a8b-83ef-4622-b025-f55bf66aa11f",
   "metadata": {},
   "outputs": [
    {
     "data": {
      "text/plain": [
       "'Male'"
      ]
     },
     "execution_count": 21,
     "metadata": {},
     "output_type": "execute_result"
    }
   ],
   "source": [
    "#bir sütunun mod değerini alacağız\n",
    "df.groupby(\"Gender\").count().orderBy(\"count\", ascending = False).first()[0]"
   ]
  },
  {
   "cell_type": "markdown",
   "id": "ee2f0f7e-9363-4385-8051-5b92f9d13ff6",
   "metadata": {},
   "source": [
    "DataFrame df'nin 'Cinsiyet' sütununda bir gruplama işlemi gerçekleştirir, her cinsiyet için oluşum sayısını sayar, sonucu sayıma göre azalan düzende sıralar ve ilk satırı alır. Son olarak, ilk satırın ilk sütununda en yüksek sayıma sahip cinsiyete karşılık gelen değeri döndürür"
   ]
  },
  {
   "cell_type": "code",
   "execution_count": 22,
   "id": "2a470c83-7303-4b47-9eed-8ea03f55f185",
   "metadata": {},
   "outputs": [],
   "source": [
    "#Next we will fill the null values for all the columns\n",
    "numerical_cols = ['LoanAmount', 'Loan_Amount_Term','Credit_History']\n",
    "categorical_cols = ['Gender', 'Married', 'Dependents', 'Self_Employed']"
   ]
  },
  {
   "cell_type": "code",
   "execution_count": 23,
   "id": "8c56936b-a928-422e-9e9e-8b9dc732af76",
   "metadata": {},
   "outputs": [],
   "source": [
    "for col in numerical_cols:\n",
    "    mean = df.select(F.mean(df[col])).collect()[0][0]\n",
    "    df = df.na.fill(float(mean), [col])"
   ]
  },
  {
   "cell_type": "markdown",
   "id": "30eeb664-19ba-4d2c-bc61-e39d6dcd5a7c",
   "metadata": {},
   "source": [
    "DataFrame df'nin birden fazla sayısal sütunundaki boş değerleri ilgili ortalama değerleriyle doldurur. Numerical_cols listesindeki her sütun adı üzerinde yineleme yapar, her sütun için ortalama değeri hesaplar ve ardından o sütundaki boş değerleri ilgili ortalama değerle doldurur"
   ]
  },
  {
   "cell_type": "code",
   "execution_count": 24,
   "id": "557a4e8e-b63f-4825-957f-e7203871073e",
   "metadata": {},
   "outputs": [],
   "source": [
    "for col in categorical_cols:\n",
    "    mode = df.groupby(col).count().orderBy(\"count\", ascending=False).first()[0]\n",
    "    df = df.na.fill(str(mode), [col])"
   ]
  },
  {
   "cell_type": "markdown",
   "id": "0a32b6c9-1995-480e-becb-13e08ab0b8c6",
   "metadata": {},
   "source": [
    "DataFrame df'nin birden fazla kategorik sütunundaki boş değerleri ilgili mod değerleriyle doldurur. categorical_cols listesindeki her sütun adı üzerinde yineleme yapar, her sütun için mod değerini hesaplar ve ardından o sütundaki boş değerleri ilgili mod değeriyle doldurur"
   ]
  },
  {
   "cell_type": "code",
   "execution_count": 25,
   "id": "9d8e34e0-b6e9-4b3b-8006-d3800ddd2ea9",
   "metadata": {},
   "outputs": [
    {
     "name": "stdout",
     "output_type": "stream",
     "text": [
      "+-------+------+-------+----------+---------+-------------+---------------+-----------------+----------+----------------+--------------+-------------+-----------+\n",
      "|Loan_ID|Gender|Married|Dependents|Education|Self_Employed|ApplicantIncome|CoapplicantIncome|LoanAmount|Loan_Amount_Term|Credit_History|Property_Area|Loan_Status|\n",
      "+-------+------+-------+----------+---------+-------------+---------------+-----------------+----------+----------------+--------------+-------------+-----------+\n",
      "|      0|     0|      0|         0|        0|            0|              0|                0|         0|               0|             0|            0|          0|\n",
      "+-------+------+-------+----------+---------+-------------+---------------+-----------------+----------+----------------+--------------+-------------+-----------+\n",
      "\n"
     ]
    }
   ],
   "source": [
    "#Şimdi tekrar null değerlere bakalım\n",
    "df.select([F.count(F.when(F.col(c).isNull(), c)).alias(c) for c in df.columns]).show()"
   ]
  },
  {
   "cell_type": "code",
   "execution_count": 26,
   "id": "91c8a80d-12f7-489a-a1fe-f58329173e81",
   "metadata": {},
   "outputs": [
    {
     "name": "stdout",
     "output_type": "stream",
     "text": [
      "+--------+------+-------+----------+---------+-------------+---------------+-----------------+--------------+----------------+--------------+-------------+-----------+-----------+\n",
      "| Loan_ID|Gender|Married|Dependents|Education|Self_Employed|ApplicantIncome|CoapplicantIncome|    LoanAmount|Loan_Amount_Term|Credit_History|Property_Area|Loan_Status|TotalIncome|\n",
      "+--------+------+-------+----------+---------+-------------+---------------+-----------------+--------------+----------------+--------------+-------------+-----------+-----------+\n",
      "|LP001002|  Male|     No|         0| Graduate|           No|           5849|     0.0000000000|146.4121621622|  360.0000000000|  1.0000000000|        Urban|          Y|5849.000000|\n",
      "|LP001003|  Male|    Yes|         1| Graduate|           No|           4583|  1508.0000000000|128.0000000000|  360.0000000000|  1.0000000000|        Rural|          N|6091.000000|\n",
      "+--------+------+-------+----------+---------+-------------+---------------+-----------------+--------------+----------------+--------------+-------------+-----------+-----------+\n",
      "only showing top 2 rows\n",
      "\n"
     ]
    }
   ],
   "source": [
    "# Yeni sütun ekleyelim\n",
    "df = df.withColumn('TotalIncome', F.col('ApplicantIncome') + F.col('CoapplicantIncome'))\n",
    "df.show(2)"
   ]
  },
  {
   "cell_type": "markdown",
   "id": "bfa8ac6b-8f6f-4f41-9f5d-dd17aea7dbfb",
   "metadata": {},
   "source": [
    "withColumn() fonksiyonu, DataFrame df'ye 'TotalIncome' adlı yeni bir sütun eklemek için kullanılır. Yeni sütun, F.col('ApplicantIncome') + F.col('CoapplicantIncome') toplama işlemini gerçekleştirerek oluşturulur; burada F.col(), karşılık gelen sütunlara başvurmak için kullanılır"
   ]
  },
  {
   "cell_type": "code",
   "execution_count": 27,
   "id": "b47d797d-5f65-4da1-96d8-f37a2af5c102",
   "metadata": {},
   "outputs": [
    {
     "name": "stdout",
     "output_type": "stream",
     "text": [
      "+--------+------+-------+----------+---------+-------------+---------------+-----------------+--------------+----------------+--------------+-------------+-----------+-----------+\n",
      "| Loan_ID|Gender|Married|Dependents|Education|Self_Employed|ApplicantIncome|CoapplicantIncome|    LoanAmount|Loan_Amount_Term|Credit_History|Property_Area|Loan_Status|TotalIncome|\n",
      "+--------+------+-------+----------+---------+-------------+---------------+-----------------+--------------+----------------+--------------+-------------+-----------+-----------+\n",
      "|LP001002|  Male|     No|         0| Graduate|           No|           5849|     0.0000000000|146.4121621622|  360.0000000000|  1.0000000000|        Urban|          1|5849.000000|\n",
      "|LP001003|  Male|    Yes|         1| Graduate|           No|           4583|  1508.0000000000|128.0000000000|  360.0000000000|  1.0000000000|        Rural|          0|6091.000000|\n",
      "+--------+------+-------+----------+---------+-------------+---------------+-----------------+--------------+----------------+--------------+-------------+-----------+-----------+\n",
      "only showing top 2 rows\n",
      "\n"
     ]
    }
   ],
   "source": [
    "# değerleri sayısallaştıralım\n",
    "df = df.withColumn('Loan_Status', F.when(df['Loan_Status']=='Y', 1).otherwise(0))\n",
    "df.show(2)"
   ]
  },
  {
   "cell_type": "markdown",
   "id": "1be17884-018d-49bd-b46f-e518c04eaab6",
   "metadata": {},
   "source": [
    "# Feature Engineering"
   ]
  },
  {
   "cell_type": "code",
   "execution_count": 28,
   "id": "0b419bd4-7c1f-471b-8cbd-7c7ba598465e",
   "metadata": {},
   "outputs": [
    {
     "name": "stdout",
     "output_type": "stream",
     "text": [
      "root\n",
      " |-- Loan_ID: string (nullable = true)\n",
      " |-- Gender: string (nullable = false)\n",
      " |-- Married: string (nullable = false)\n",
      " |-- Dependents: string (nullable = false)\n",
      " |-- Education: string (nullable = true)\n",
      " |-- Self_Employed: string (nullable = false)\n",
      " |-- ApplicantIncome: decimal(38,0) (nullable = true)\n",
      " |-- CoapplicantIncome: decimal(38,10) (nullable = true)\n",
      " |-- LoanAmount: decimal(38,10) (nullable = true)\n",
      " |-- Loan_Amount_Term: decimal(38,10) (nullable = true)\n",
      " |-- Credit_History: decimal(38,10) (nullable = true)\n",
      " |-- Property_Area: string (nullable = true)\n",
      " |-- Loan_Status: integer (nullable = false)\n",
      " |-- TotalIncome: decimal(38,6) (nullable = true)\n",
      "\n"
     ]
    }
   ],
   "source": [
    "df.printSchema()"
   ]
  },
  {
   "cell_type": "code",
   "execution_count": 29,
   "id": "49a00e0a-5015-4111-af62-cd7e3d53d337",
   "metadata": {},
   "outputs": [],
   "source": [
    "from pyspark.ml.feature import VectorAssembler, OneHotEncoder, StringIndexer\n",
    "from pyspark.ml import Pipeline"
   ]
  },
  {
   "cell_type": "code",
   "execution_count": 30,
   "id": "496ae47e-a37c-4989-b56e-70964a8122c1",
   "metadata": {},
   "outputs": [],
   "source": [
    "categorical_columns = ['Gender', 'Married', 'Dependents', 'Education', 'Self_Employed', 'Property_Area', 'Credit_History']\n",
    "numerical_columns = ['ApplicantIncome', 'CoapplicantIncome', 'LoanAmount', 'Loan_Amount_Term', 'TotalIncome']\n",
    "\n",
    "# index the string columns\n",
    "indexers = [StringIndexer(inputCol=col, outputCol=\"{0}_index\".format(col)) for col in categorical_columns]\n",
    "\n",
    "# encode the indexed values\n",
    "encoders = [OneHotEncoder(dropLast=False, inputCol=indexer.getOutputCol(), outputCol=\"{0}_encoded\".format(indexer.getOutputCol()))\n",
    "           for indexer in indexers]\n",
    "\n",
    "input_columns = [encoder.getOutputCol() for encoder in encoders] + numerical_columns\n",
    "\n",
    "# vectorize the encoded values\n",
    "assembler = VectorAssembler(inputCols=input_columns, outputCol=\"feature\")\n"
   ]
  },
  {
   "cell_type": "markdown",
   "id": "5177e478-46c5-4313-846f-356baccd1942",
   "metadata": {},
   "source": [
    "Öncelikle kategorik sütunların bir listesini ve işlemek istediğiniz sayısal sütunların bir listesini oluşturacağız Kategorik sütunlar StringIndexer kullanılarak dizinlenir. Her kategorik sütun benzersiz dizinlere sahip sayısal bir sütuna dönüştürülür. Her kategorik sütun için ayrı bir StringIndexer oluşturulur ve çıktı sütun adlarına _index eklenir Daha sonra, dizinlenmiş değerler OneHotEncoder kullanılarak kodlanır. Her dizinlenmiş sütun, her kategorinin ayrı bir ikili sütunla temsil edildiği ikili vektör gösterimine dönüştürülür. Yine, her dizinlenmiş sütun için ayrı bir OneHotEncoder oluşturulur ve çıktı sütun adlarına _encoded eklenir Kodlanmış değerler ve sayısal sütunlar, sonraki adımlar için girdi görevi görecek tek bir listede birleştirilir. Son olarak, birleştirilmiş değerler VectorAssembler kullanılarak vektörleştirilir. VectorAssembler, giriş sütunlarının listesini alır ve bunları \"features\" adlı tek bir özellik vektörü sütununda birleştirir\n",
    "\n"
   ]
  },
  {
   "cell_type": "code",
   "execution_count": 31,
   "id": "78aca687-af52-4d1b-ae85-9d7ddbd8406c",
   "metadata": {},
   "outputs": [],
   "source": [
    "# verileri dönüştürmek için pipeline oluşturalım\n",
    "pipeline = Pipeline(stages = indexers + encoders + [assembler])"
   ]
  },
  {
   "cell_type": "markdown",
   "id": "e88ae1e4-9cf4-4a7e-8cda-257cc597dde2",
   "metadata": {},
   "source": [
    "Pipeline nesnesi, dizinleyicileri, kodlayıcıları ve derleyici adımlarını içeren belirtilen aşamalarla oluşturulur. Aşamalar, + operatörü kullanılarak boru hattına eklenir ve [assembler], tek bir öğe olarak iletildiğinden emin olmak için bir listeye sarılır Pipeline nesnesi, her aşamanın bir dönüşüm veya modelleme adımını temsil ettiği tek bir iş akışında birden fazla aşamayı bir araya getirmenize olanak tanır. Bu, özellik mühendisliği sürecini kolaylaştırmanızı ve bunu farklı veri kümelerine tutarlı bir şekilde uygulamanızı sağlar"
   ]
  },
  {
   "cell_type": "code",
   "execution_count": 32,
   "id": "c4cc0296-f9d3-4ad2-800d-ce2d82e34253",
   "metadata": {},
   "outputs": [
    {
     "name": "stderr",
     "output_type": "stream",
     "text": [
      "                                                                                \r"
     ]
    }
   ],
   "source": [
    "data_model = pipeline.fit(df)"
   ]
  },
  {
   "cell_type": "markdown",
   "id": "7565f131-40c0-49c8-a95b-6c87dfef728b",
   "metadata": {},
   "source": [
    "tanımlanan Pipeline nesnesini (pipeline) DataFrame df'ye uydurur. fit() yöntemi, pipeline'ın her aşamasını, ilk aşamadan başlayarak ve sonraki aşamalara devam ederek, verilere sırayla uygular"
   ]
  },
  {
   "cell_type": "code",
   "execution_count": 33,
   "id": "b82b99b8-2d85-4cca-873a-ade90870b269",
   "metadata": {},
   "outputs": [],
   "source": [
    "transformed_df = data_model.transform(df)"
   ]
  },
  {
   "cell_type": "markdown",
   "id": "6cf96435-a806-41ee-8f2e-39977dd261f7",
   "metadata": {},
   "source": [
    "boru hattında tanımlanan özellik mühendisliği dönüşümlerini gerçekleştirmek için takılan PipelineModel'i (data_model) DataFrame df'ye uygular. Sonuç, df'den gelen orijinal sütunları ve tasarlanmış özellikleri içeren yeni bir DataFrame transformed_df'dir Bir PipelineModel'in transform() yöntemi, boru hattındaki her dönüşüm aşamasını, ilk aşamadan başlayarak ve her aşamanın dönüştürülmüş çıktısını bir sonraki aşamaya girdi olarak sırayla geçirerek giriş DataFrame'ine uygular"
   ]
  },
  {
   "cell_type": "code",
   "execution_count": 34,
   "id": "ff1b4187-be0e-43b3-9c8f-6eb98e05e8c6",
   "metadata": {},
   "outputs": [
    {
     "name": "stderr",
     "output_type": "stream",
     "text": [
      "25/04/28 15:04:26 WARN SparkStringUtils: Truncated the string representation of a plan since it was too large. This behavior can be adjusted by setting 'spark.sql.debug.maxToStringFields'.\n"
     ]
    },
    {
     "name": "stdout",
     "output_type": "stream",
     "text": [
      "+--------+------+-------+----------+---------+-------------+---------------+-----------------+--------------+----------------+--------------+-------------+-----------+-----------+------------+-------------+----------------+---------------+-------------------+-------------------+--------------------+--------------------+---------------------+------------------------+-----------------------+---------------------------+---------------------------+----------------------------+--------------------+\n",
      "| Loan_ID|Gender|Married|Dependents|Education|Self_Employed|ApplicantIncome|CoapplicantIncome|    LoanAmount|Loan_Amount_Term|Credit_History|Property_Area|Loan_Status|TotalIncome|Gender_index|Married_index|Dependents_index|Education_index|Self_Employed_index|Property_Area_index|Credit_History_index|Gender_index_encoded|Married_index_encoded|Dependents_index_encoded|Education_index_encoded|Self_Employed_index_encoded|Property_Area_index_encoded|Credit_History_index_encoded|             feature|\n",
      "+--------+------+-------+----------+---------+-------------+---------------+-----------------+--------------+----------------+--------------+-------------+-----------+-----------+------------+-------------+----------------+---------------+-------------------+-------------------+--------------------+--------------------+---------------------+------------------------+-----------------------+---------------------------+---------------------------+----------------------------+--------------------+\n",
      "|LP001002|  Male|     No|         0| Graduate|           No|           5849|     0.0000000000|146.4121621622|  360.0000000000|  1.0000000000|        Urban|          1|5849.000000|         0.0|          1.0|             0.0|            0.0|                0.0|                1.0|                 0.0|       (2,[0],[1.0])|        (2,[1],[1.0])|           (4,[0],[1.0])|          (2,[0],[1.0])|              (2,[0],[1.0])|              (3,[1],[1.0])|               (3,[0],[1.0])|(23,[0,3,4,8,10,1...|\n",
      "+--------+------+-------+----------+---------+-------------+---------------+-----------------+--------------+----------------+--------------+-------------+-----------+-----------+------------+-------------+----------------+---------------+-------------------+-------------------+--------------------+--------------------+---------------------+------------------------+-----------------------+---------------------------+---------------------------+----------------------------+--------------------+\n",
      "only showing top 1 row\n",
      "\n"
     ]
    }
   ],
   "source": [
    "transformed_df.show(1)"
   ]
  },
  {
   "cell_type": "code",
   "execution_count": 35,
   "id": "04e916be-da2a-4429-89ea-2689485de96a",
   "metadata": {},
   "outputs": [],
   "source": [
    "# giriş özelliğini ve çıkış sütunlarını al\n",
    "transformed_df = transformed_df.select(['feature', 'Loan_Status'])"
   ]
  },
  {
   "cell_type": "code",
   "execution_count": 36,
   "id": "ac74e471-6bd3-44b1-979b-fbe5c9762632",
   "metadata": {},
   "outputs": [
    {
     "name": "stdout",
     "output_type": "stream",
     "text": [
      "+--------------------+-----------+\n",
      "|             feature|Loan_Status|\n",
      "+--------------------+-----------+\n",
      "|(23,[0,3,4,8,10,1...|          1|\n",
      "|(23,[0,2,5,8,10,1...|          0|\n",
      "|(23,[0,2,4,8,11,1...|          1|\n",
      "|(23,[0,2,4,9,10,1...|          1|\n",
      "|(23,[0,3,4,8,10,1...|          1|\n",
      "|(23,[0,2,6,8,11,1...|          1|\n",
      "|(23,[0,2,4,9,10,1...|          1|\n",
      "|(23,[0,2,7,8,10,1...|          0|\n",
      "|(23,[0,2,6,8,10,1...|          1|\n",
      "|(23,[0,2,5,8,10,1...|          0|\n",
      "|(23,[0,2,6,8,10,1...|          1|\n",
      "|(23,[0,2,6,8,10,1...|          1|\n",
      "|(23,[0,2,6,8,10,1...|          1|\n",
      "|(23,[0,3,4,8,10,1...|          0|\n",
      "|(23,[0,2,6,8,10,1...|          1|\n",
      "|(23,[0,3,4,8,10,1...|          1|\n",
      "|(23,[0,3,5,9,10,1...|          1|\n",
      "|(23,[1,3,4,8,10,1...|          0|\n",
      "|(23,[0,2,4,9,10,1...|          0|\n",
      "|(23,[0,2,4,8,10,1...|          1|\n",
      "+--------------------+-----------+\n",
      "only showing top 20 rows\n",
      "\n"
     ]
    }
   ],
   "source": [
    "transformed_df.show()"
   ]
  },
  {
   "cell_type": "code",
   "execution_count": 37,
   "id": "f5531b2e-cb7b-4b61-9bcc-0535249a083c",
   "metadata": {},
   "outputs": [],
   "source": [
    "# split the data for train and test\n",
    "train_data, test_data = transformed_df.randomSplit([0.8, 0.2], seed=42)"
   ]
  },
  {
   "cell_type": "code",
   "execution_count": 38,
   "id": "bee45e8b-d3ff-422d-8ed5-c80e4ad81fa1",
   "metadata": {},
   "outputs": [
    {
     "name": "stdout",
     "output_type": "stream",
     "text": [
      "+--------------------+-----------+\n",
      "|             feature|Loan_Status|\n",
      "+--------------------+-----------+\n",
      "|(23,[0,2,4,8,10,1...|          1|\n",
      "|(23,[0,2,4,8,10,1...|          1|\n",
      "|(23,[0,2,4,8,10,1...|          0|\n",
      "|(23,[0,2,4,8,10,1...|          1|\n",
      "|(23,[0,2,4,8,10,1...|          1|\n",
      "+--------------------+-----------+\n",
      "only showing top 5 rows\n",
      "\n"
     ]
    }
   ],
   "source": [
    "train_data.show(5)"
   ]
  },
  {
   "cell_type": "markdown",
   "id": "9b9e533c-1f8b-47b0-be14-21ca55b72f71",
   "metadata": {},
   "source": [
    "# Model Training & Testing\n"
   ]
  },
  {
   "cell_type": "code",
   "execution_count": 39,
   "id": "fadb9b03-29e6-4e15-9244-fa18ab9ae8a6",
   "metadata": {},
   "outputs": [],
   "source": [
    "from pyspark.ml.classification import LogisticRegression, RandomForestClassifier\n",
    "from pyspark.ml.evaluation import BinaryClassificationEvaluator"
   ]
  },
  {
   "cell_type": "code",
   "execution_count": 40,
   "id": "254c5945-f42f-43e5-a3e1-4fa0cde125d6",
   "metadata": {},
   "outputs": [
    {
     "name": "stderr",
     "output_type": "stream",
     "text": [
      "25/04/28 15:04:29 WARN InstanceBuilder: Failed to load implementation from:dev.ludovic.netlib.blas.JNIBLAS\n",
      "25/04/28 15:04:29 WARN InstanceBuilder: Failed to load implementation from:dev.ludovic.netlib.blas.VectorBLAS\n"
     ]
    }
   ],
   "source": [
    "lr = LogisticRegression(featuresCol='feature', labelCol='Loan_Status')\n",
    "lr_model = lr.fit(train_data)"
   ]
  },
  {
   "cell_type": "markdown",
   "id": "866a81d0-1846-4585-befa-2e1ede2f8881",
   "metadata": {},
   "source": [
    "LogisticRegression sınıfı ikili sınıflandırma görevleri için kullanılır ve ikili bir sonucun olasılığını modellemek için popüler bir algoritma olan lojistik regresyonu uygular özelliklerCol ve etiketCol argümanları, sırasıyla özellikleri ve hedef değişkeni içeren DataFrame'deki sütunların adlarını belirtir LogisticRegression örneğini oluşturduktan sonra, kod lojistik regresyon modelini eğitim verilerine uydurur. fit() yöntemi LogisticRegression nesnesinde çağrılır ve belirtilen DataFrame'deki özellikleri ve hedef değişkeni kullanarak modeli eğitir Sonuçta ortaya çıkan lr_model, eğitilmiş lojistik regresyon modelini temsil eden LogisticRegressionModel sınıfının bir örneğidir. Bu model, yeni veriler hakkında tahminlerde bulunmak veya performansını değerlendirmek için kullanılabilir"
   ]
  },
  {
   "cell_type": "code",
   "execution_count": 41,
   "id": "05fed5b5-4521-4cbc-b382-d901fe9533c3",
   "metadata": {},
   "outputs": [
    {
     "name": "stderr",
     "output_type": "stream",
     "text": [
      "[Stage 164:>                                                        (0 + 1) / 1]\r"
     ]
    },
    {
     "name": "stdout",
     "output_type": "stream",
     "text": [
      "+--------------------+-----------+--------------------+--------------------+----------+\n",
      "|             feature|Loan_Status|       rawPrediction|         probability|prediction|\n",
      "+--------------------+-----------+--------------------+--------------------+----------+\n",
      "|(23,[0,2,4,8,10,1...|          1|[-2.0518539331989...|[0.11386518564210...|       1.0|\n",
      "|(23,[0,2,4,8,10,1...|          1|[-2.1285801579184...|[0.10634985744738...|       1.0|\n",
      "|(23,[0,2,4,8,10,1...|          1|[-2.0120132831664...|[0.11794736315866...|       1.0|\n",
      "|(23,[0,2,4,8,10,1...|          1|[-2.0637337778771...|[0.11267199789054...|       1.0|\n",
      "|(23,[0,2,4,8,10,1...|          1|[-2.0102278779703...|[0.11813323592357...|       1.0|\n",
      "|(23,[0,2,4,8,10,1...|          1|[-1.6688816492826...|[0.15857334099080...|       1.0|\n",
      "|(23,[0,2,4,8,10,1...|          1|[-2.1286342270332...|[0.10634471885158...|       1.0|\n",
      "|(23,[0,2,4,8,10,1...|          1|[-2.0215925597755...|[0.11695441718367...|       1.0|\n",
      "|(23,[0,2,4,8,10,1...|          1|[-1.4530010049381...|[0.18954013805745...|       1.0|\n",
      "|(23,[0,2,4,8,10,1...|          1|[-1.3751310525708...|[0.20179211252840...|       1.0|\n",
      "|(23,[0,2,4,8,10,1...|          1|[-1.3337600098086...|[0.20853809563376...|       1.0|\n",
      "|(23,[0,2,4,8,10,1...|          1|[-1.3428744568790...|[0.20703775259379...|       1.0|\n",
      "|(23,[0,2,4,8,10,1...|          1|[-1.3879992548301...|[0.19972735652083...|       1.0|\n",
      "|(23,[0,2,4,8,10,1...|          1|[-1.2381227161702...|[0.22476292318598...|       1.0|\n",
      "|(23,[0,2,4,8,10,1...|          1|[-1.5095912279606...|[0.18099938104764...|       1.0|\n",
      "|(23,[0,2,4,8,10,1...|          0|[2.25507388292333...|[0.90508730013130...|       0.0|\n",
      "|(23,[0,2,4,8,10,1...|          1|[-0.3020288455952...|[0.42506159008546...|       1.0|\n",
      "|(23,[0,2,4,8,10,1...|          1|[-1.0095136142160...|[0.26707504802972...|       1.0|\n",
      "|(23,[0,2,4,8,10,1...|          0|[2.31415195897603...|[0.91004233576487...|       0.0|\n",
      "|(23,[0,2,4,8,10,1...|          1|[-1.0711680540835...|[0.25518101605462...|       1.0|\n",
      "+--------------------+-----------+--------------------+--------------------+----------+\n",
      "only showing top 20 rows\n",
      "\n"
     ]
    },
    {
     "name": "stderr",
     "output_type": "stream",
     "text": [
      "                                                                                \r"
     ]
    }
   ],
   "source": [
    "# Test verisi üzerinden tahmin yapalım\n",
    "predictions = lr_model.transform(test_data)\n",
    "predictions.show()"
   ]
  },
  {
   "cell_type": "markdown",
   "id": "3dba22c7-68e0-4199-95c5-2bf9b0b99ffd",
   "metadata": {},
   "source": [
    "Lojistik regresyon modelinin transform() yöntemi, test verilerini girdi olarak alır ve test_data'dan orijinal sütunların yanı sıra \"tahmin\" sütunu da dahil olmak üzere ek sütunları içeren yeni bir DataFrame tahminleri üretir"
   ]
  },
  {
   "cell_type": "markdown",
   "id": "52d9b262-fbd6-42a8-bc95-4ccb69fcbc4f",
   "metadata": {},
   "source": [
    "LogisticRegressionModel için bir metrik oluşturacağız"
   ]
  },
  {
   "cell_type": "code",
   "execution_count": 42,
   "id": "e45bd8ee-7331-49bd-a87f-48fe629a237c",
   "metadata": {},
   "outputs": [
    {
     "name": "stdout",
     "output_type": "stream",
     "text": [
      "AUC: 0.7499999999999999\n"
     ]
    }
   ],
   "source": [
    "predictions = lr_model.transform(test_data)\n",
    "auc = BinaryClassificationEvaluator().setLabelCol('Loan_Status')\n",
    "print('AUC:', str(auc.evaluate(predictions)))"
   ]
  },
  {
   "cell_type": "code",
   "execution_count": 43,
   "id": "d0163389-bf82-47ba-ab4a-684382eeb495",
   "metadata": {},
   "outputs": [],
   "source": [
    "rf = RandomForestClassifier(featuresCol='feature', labelCol='Loan_Status')\n",
    "rf_model = rf.fit(train_data)"
   ]
  },
  {
   "cell_type": "code",
   "execution_count": 44,
   "id": "8464df13-93bb-49d4-ab81-1549f05cc1bb",
   "metadata": {
    "scrolled": true
   },
   "outputs": [
    {
     "name": "stdout",
     "output_type": "stream",
     "text": [
      "AUC: 0.7973744292237442\n"
     ]
    }
   ],
   "source": [
    "predictions = rf_model.transform(test_data)\n",
    "auc = BinaryClassificationEvaluator().setLabelCol('Loan_Status')\n",
    "print('AUC:', str(auc.evaluate(predictions)))"
   ]
  },
  {
   "cell_type": "markdown",
   "id": "e2022cce-629c-49d1-a42d-df9881d677ad",
   "metadata": {},
   "source": [
    "BinaryClassificationEvaluator, AUC-ROC gibi değerlendirme metriklerini hesaplayarak rastgele orman gibi ikili sınıflandırma modellerinin performansını değerlendirmek için kullanılır evaluate() yöntemi, \"tahmin\" sütununa ve belirtilen etiket sütununa (bu durumda 'Loan_Status') dayanarak ROC eğrisinin altındaki alanı (AUC-ROC) hesaplar. AUC değeri, rastgele orman modelinin iki sınıf arasında ayrım yapma performansını temsil eder"
   ]
  },
  {
   "cell_type": "code",
   "execution_count": 53,
   "id": "298d82cc-1127-430b-b79e-8b4059ef63f3",
   "metadata": {},
   "outputs": [],
   "source": [
    "from pyspark.sql import SparkSession\n",
    "from pyspark.sql import Row\n",
    "from pyspark.sql.types import StructType, StructField, StringType, DecimalType, IntegerType\n",
    "from decimal import Decimal  # Decimal türü için import\n",
    "\n",
    "# Schema tanımlaması\n",
    "schema = StructType([\n",
    "    StructField(\"Loan_ID\", StringType(), True),\n",
    "    StructField(\"Gender\", StringType(), False),\n",
    "    StructField(\"Married\", StringType(), False),\n",
    "    StructField(\"Dependents\", StringType(), False),\n",
    "    StructField(\"Education\", StringType(), True),\n",
    "    StructField(\"Self_Employed\", StringType(), False),\n",
    "    StructField(\"ApplicantIncome\", DecimalType(38, 0), True),\n",
    "    StructField(\"CoapplicantIncome\", DecimalType(38, 10), True),\n",
    "    StructField(\"LoanAmount\", DecimalType(38, 10), True),\n",
    "    StructField(\"Loan_Amount_Term\", DecimalType(38, 10), True),\n",
    "    StructField(\"Credit_History\", DecimalType(38, 10), True),\n",
    "    StructField(\"Property_Area\", StringType(), True),\n",
    "    StructField(\"Loan_Status\", IntegerType(), False),\n",
    "    StructField(\"TotalIncome\", DecimalType(38, 6), True)\n",
    "])\n",
    "\n",
    "# Veri (decimal türünde değerler kullanıyoruz)\n",
    "new_data = [\n",
    "    Row(\n",
    "        Loan_ID=\"LP001002\", \n",
    "        Gender=\"Male\", \n",
    "        Married=\"No\", \n",
    "        Dependents=\"0\", \n",
    "        Education=\"Graduate\", \n",
    "        Self_Employed=\"No\", \n",
    "        ApplicantIncome=Decimal(5849), \n",
    "        CoapplicantIncome=Decimal(0.0), \n",
    "        LoanAmount=Decimal(146.4121621622), \n",
    "        Loan_Amount_Term=Decimal(360.0), \n",
    "        Credit_History=Decimal(1.0), \n",
    "        Property_Area=\"Urban\", \n",
    "        Loan_Status=1, \n",
    "        TotalIncome=Decimal(5849.0)\n",
    "    )\n",
    "]\n",
    "\n",
    "# DataFrame oluşturuluyor\n",
    "new_df = spark.createDataFrame(new_data, schema)\n",
    "\n",
    "\n"
   ]
  },
  {
   "cell_type": "code",
   "execution_count": 54,
   "id": "eec27080-5e64-49ec-ac3d-d1fc6fd020ff",
   "metadata": {},
   "outputs": [
    {
     "name": "stdout",
     "output_type": "stream",
     "text": [
      "+--------+------+-------+----------+---------+-------------+---------------+-----------------+--------------+----------------+--------------+-------------+-----------+-----------+\n",
      "| Loan_ID|Gender|Married|Dependents|Education|Self_Employed|ApplicantIncome|CoapplicantIncome|    LoanAmount|Loan_Amount_Term|Credit_History|Property_Area|Loan_Status|TotalIncome|\n",
      "+--------+------+-------+----------+---------+-------------+---------------+-----------------+--------------+----------------+--------------+-------------+-----------+-----------+\n",
      "|LP001002|  Male|     No|         0| Graduate|           No|           5849|     0.0000000000|146.4121621622|  360.0000000000|  1.0000000000|        Urban|          1|5849.000000|\n",
      "+--------+------+-------+----------+---------+-------------+---------------+-----------------+--------------+----------------+--------------+-------------+-----------+-----------+\n",
      "\n"
     ]
    }
   ],
   "source": [
    "new_df.show()"
   ]
  },
  {
   "cell_type": "code",
   "execution_count": 55,
   "id": "b6f5d468-4b80-4d16-b3dc-bf1c108f87b9",
   "metadata": {},
   "outputs": [],
   "source": [
    "new_transformed_df = data_model.transform(new_df)\n"
   ]
  },
  {
   "cell_type": "code",
   "execution_count": 56,
   "id": "8219b424-836a-467c-af9d-f399ae911009",
   "metadata": {
    "scrolled": true
   },
   "outputs": [
    {
     "name": "stdout",
     "output_type": "stream",
     "text": [
      "+--------+------+-------+----------+---------+-------------+---------------+-----------------+--------------+----------------+--------------+-------------+-----------+-----------+------------+-------------+----------------+---------------+-------------------+-------------------+--------------------+--------------------+---------------------+------------------------+-----------------------+---------------------------+---------------------------+----------------------------+--------------------+\n",
      "| Loan_ID|Gender|Married|Dependents|Education|Self_Employed|ApplicantIncome|CoapplicantIncome|    LoanAmount|Loan_Amount_Term|Credit_History|Property_Area|Loan_Status|TotalIncome|Gender_index|Married_index|Dependents_index|Education_index|Self_Employed_index|Property_Area_index|Credit_History_index|Gender_index_encoded|Married_index_encoded|Dependents_index_encoded|Education_index_encoded|Self_Employed_index_encoded|Property_Area_index_encoded|Credit_History_index_encoded|             feature|\n",
      "+--------+------+-------+----------+---------+-------------+---------------+-----------------+--------------+----------------+--------------+-------------+-----------+-----------+------------+-------------+----------------+---------------+-------------------+-------------------+--------------------+--------------------+---------------------+------------------------+-----------------------+---------------------------+---------------------------+----------------------------+--------------------+\n",
      "|LP001002|  Male|     No|         0| Graduate|           No|           5849|     0.0000000000|146.4121621622|  360.0000000000|  1.0000000000|        Urban|          1|5849.000000|         0.0|          1.0|             0.0|            0.0|                0.0|                1.0|                 0.0|       (2,[0],[1.0])|        (2,[1],[1.0])|           (4,[0],[1.0])|          (2,[0],[1.0])|              (2,[0],[1.0])|              (3,[1],[1.0])|               (3,[0],[1.0])|(23,[0,3,4,8,10,1...|\n",
      "+--------+------+-------+----------+---------+-------------+---------------+-----------------+--------------+----------------+--------------+-------------+-----------+-----------+------------+-------------+----------------+---------------+-------------------+-------------------+--------------------+--------------------+---------------------+------------------------+-----------------------+---------------------------+---------------------------+----------------------------+--------------------+\n",
      "\n"
     ]
    }
   ],
   "source": [
    "new_transformed_df.show()"
   ]
  },
  {
   "cell_type": "code",
   "execution_count": 62,
   "id": "a206a409-becc-4843-bd73-e3b92617965f",
   "metadata": {},
   "outputs": [
    {
     "name": "stdout",
     "output_type": "stream",
     "text": [
      "+----------+\n",
      "|prediction|\n",
      "+----------+\n",
      "|       1.0|\n",
      "+----------+\n",
      "\n"
     ]
    }
   ],
   "source": [
    "predictions2 = lr_model.transform(new_transformed_df)\n",
    "predictions2.select(\"prediction\").show()\n"
   ]
  },
  {
   "cell_type": "code",
   "execution_count": null,
   "id": "89f0fb32-8354-4541-b5fe-a358c655ad6d",
   "metadata": {},
   "outputs": [],
   "source": []
  }
 ],
 "metadata": {
  "kernelspec": {
   "display_name": "Python 3 (ipykernel)",
   "language": "python",
   "name": "python3"
  },
  "language_info": {
   "codemirror_mode": {
    "name": "ipython",
    "version": 3
   },
   "file_extension": ".py",
   "mimetype": "text/x-python",
   "name": "python",
   "nbconvert_exporter": "python",
   "pygments_lexer": "ipython3",
   "version": "3.11.8"
  }
 },
 "nbformat": 4,
 "nbformat_minor": 5
}
